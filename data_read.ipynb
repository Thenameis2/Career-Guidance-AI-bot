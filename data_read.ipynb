{
 "cells": [
  {
   "cell_type": "code",
   "execution_count": 1,
   "metadata": {},
   "outputs": [],
   "source": [
    "import pandas as pd"
   ]
  },
  {
   "cell_type": "code",
   "execution_count": 4,
   "metadata": {},
   "outputs": [],
   "source": [
    "df = pd.read_csv(\"Job_listing.csv\")"
   ]
  },
  {
   "cell_type": "code",
   "execution_count": 5,
   "metadata": {},
   "outputs": [
    {
     "name": "stdout",
     "output_type": "stream",
     "text": [
      "Job         object\n",
      "Company     object\n",
      "Location    object\n",
      "Salary      object\n",
      "Link        object\n",
      "dtype: object\n"
     ]
    }
   ],
   "source": [
    "print(df.dtypes)"
   ]
  },
  {
   "cell_type": "code",
   "execution_count": 22,
   "metadata": {},
   "outputs": [
    {
     "name": "stdout",
     "output_type": "stream",
     "text": [
      "0                                BI Analyst\n",
      "1          Senior Software Engineer, Python\n",
      "2                         Frontend Engineer\n",
      "3                          Backend Engineer\n",
      "4     Senior Independent Software Developer\n",
      "                      ...                  \n",
      "70             Data Science Product Manager\n",
      "71                             Data Analyst\n",
      "72                            Data Engineer\n",
      "73          Technical Data Analyst, Peacock\n",
      "74                        Sr. Data Engineer\n",
      "Name: Job, Length: 75, dtype: object\n"
     ]
    }
   ],
   "source": [
    "job_df = df['Job']\n",
    "print(job_df)"
   ]
  },
  {
   "cell_type": "code",
   "execution_count": 25,
   "metadata": {},
   "outputs": [
    {
     "name": "stdout",
     "output_type": "stream",
     "text": [
      "                                      Job             Salary  \\\n",
      "0                              BI Analyst     💸 $40K - $100K   \n",
      "1        Senior Software Engineer, Python    💸 $125K - $200K   \n",
      "2                       Frontend Engineer     💸 $40K - $100K   \n",
      "3                        Backend Engineer     💸 $40K - $100K   \n",
      "4   Senior Independent Software Developer  💸 $110-190 HOURLY   \n",
      "..                                    ...                ...   \n",
      "70           Data Science Product Manager               DATA   \n",
      "71                           Data Analyst               DATA   \n",
      "72                          Data Engineer               DATA   \n",
      "73        Technical Data Analyst, Peacock               DATA   \n",
      "74                      Sr. Data Engineer               DATA   \n",
      "\n",
      "              Company           Location  \\\n",
      "0           SportyBet  EUROPE, UK, EUR..   \n",
      "1          AssemblyAI  NORTH AMERICA, ..   \n",
      "2           SportyBet  EUROPE, UK, EUR..   \n",
      "3           SportyBet  EUROPE, UK, EUR..   \n",
      "4              A.Team          WORLDWIDE   \n",
      "..                ...                ...   \n",
      "70               Dext                 UK   \n",
      "71           DirectID                 UK   \n",
      "72               MEMX     🇺🇸\\r\\nUSA ONLY   \n",
      "73  NBCUniversal, LLC     🇺🇸\\r\\nUSA ONLY   \n",
      "74       TalentRemedy     🇺🇸\\r\\nUSA ONLY   \n",
      "\n",
      "                                                 Link  \n",
      "0   https://remotive.com/remote-jobs/software-dev/...  \n",
      "1   https://remotive.com/remote-jobs/software-dev/...  \n",
      "2   https://remotive.com/remote-jobs/software-dev/...  \n",
      "3   https://remotive.com/remote-jobs/software-dev/...  \n",
      "4   https://remotive.com/remote-jobs/software-dev/...  \n",
      "..                                                ...  \n",
      "70  https://remotive.com/remote-jobs/data/data-sci...  \n",
      "71  https://remotive.com/remote-jobs/data/data-ana...  \n",
      "72  https://remotive.com/remote-jobs/data/data-eng...  \n",
      "73  https://remotive.com/remote-jobs/data/technica...  \n",
      "74  https://remotive.com/remote-jobs/data/sr-data-...  \n",
      "\n",
      "[75 rows x 5 columns]\n"
     ]
    },
    {
     "ename": "",
     "evalue": "",
     "output_type": "error",
     "traceback": [
      "\u001b[1;31mThe Kernel crashed while executing code in the current cell or a previous cell. \n",
      "\u001b[1;31mPlease review the code in the cell(s) to identify a possible cause of the failure. \n",
      "\u001b[1;31mClick <a href='https://aka.ms/vscodeJupyterKernelCrash'>here</a> for more info. \n",
      "\u001b[1;31mView Jupyter <a href='command:jupyter.viewOutput'>log</a> for further details."
     ]
    }
   ],
   "source": [
    "selected_columns = df[['Job', 'Salary', 'Company','Location', 'Link']]\n",
    "\n",
    "# Display the selected columns\n",
    "print(selected_columns)"
   ]
  }
 ],
 "metadata": {
  "kernelspec": {
   "display_name": "Python 3",
   "language": "python",
   "name": "python3"
  },
  "language_info": {
   "codemirror_mode": {
    "name": "ipython",
    "version": 3
   },
   "file_extension": ".py",
   "mimetype": "text/x-python",
   "name": "python",
   "nbconvert_exporter": "python",
   "pygments_lexer": "ipython3",
   "version": "3.12.2"
  }
 },
 "nbformat": 4,
 "nbformat_minor": 2
}
