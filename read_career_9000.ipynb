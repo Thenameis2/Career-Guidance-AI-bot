{
 "cells": [
  {
   "cell_type": "code",
   "execution_count": 2,
   "metadata": {},
   "outputs": [],
   "source": [
    "import pandas as pd"
   ]
  },
  {
   "cell_type": "code",
   "execution_count": 3,
   "metadata": {},
   "outputs": [
    {
     "name": "stdout",
     "output_type": "stream",
     "text": [
      "<class 'pandas.core.frame.DataFrame'>\n",
      "9179\n"
     ]
    }
   ],
   "source": [
    "df = pd.read_csv(\"dataset9000.csv\")\n",
    "print(type(df))\n",
    "print(len(df))"
   ]
  },
  {
   "cell_type": "code",
   "execution_count": 3,
   "metadata": {},
   "outputs": [
    {
     "name": "stdout",
     "output_type": "stream",
     "text": [
      "Database Fundamentals              object\n",
      "Computer Architecture              object\n",
      "Distributed Computing Systems      object\n",
      "Cyber Security                     object\n",
      "Networking                         object\n",
      "Software Development               object\n",
      "Programming Skills                 object\n",
      "Project Management                 object\n",
      "Computer Forensics Fundamentals    object\n",
      "Technical Communication            object\n",
      "AI ML                              object\n",
      "Software Engineering               object\n",
      "Business Analysis                  object\n",
      "Communication skills               object\n",
      "Data Science                       object\n",
      "Troubleshooting skills             object\n",
      "Graphics Designing                 object\n",
      "Role                               object\n",
      "dtype: object\n"
     ]
    }
   ],
   "source": [
    "print(df.dtypes)"
   ]
  },
  {
   "cell_type": "code",
   "execution_count": 4,
   "metadata": {},
   "outputs": [
    {
     "name": "stdout",
     "output_type": "stream",
     "text": [
      "     Database Fundamentals Computer Architecture  \\\n",
      "0             Professional        Not Interested   \n",
      "1             Professional                  Poor   \n",
      "2             Professional              Beginner   \n",
      "3             Professional               Average   \n",
      "4             Professional          Intermediate   \n",
      "...                    ...                   ...   \n",
      "9174        Not Interested        Not Interested   \n",
      "9175        Not Interested        Not Interested   \n",
      "9176        Not Interested        Not Interested   \n",
      "9177        Not Interested        Not Interested   \n",
      "9178        Not Interested        Not Interested   \n",
      "\n",
      "     Distributed Computing Systems  Cyber Security      Networking  \\\n",
      "0                   Not Interested  Not Interested  Not Interested   \n",
      "1                   Not Interested  Not Interested  Not Interested   \n",
      "2                   Not Interested  Not Interested  Not Interested   \n",
      "3                   Not Interested  Not Interested  Not Interested   \n",
      "4                   Not Interested  Not Interested  Not Interested   \n",
      "...                            ...             ...             ...   \n",
      "9174                Not Interested  Not Interested  Not Interested   \n",
      "9175                Not Interested  Not Interested  Not Interested   \n",
      "9176                Not Interested  Not Interested  Not Interested   \n",
      "9177                Not Interested  Not Interested  Not Interested   \n",
      "9178                Not Interested  Not Interested  Not Interested   \n",
      "\n",
      "     Software Development Programming Skills Project Management  \\\n",
      "0          Not Interested     Not Interested     Not Interested   \n",
      "1          Not Interested     Not Interested     Not Interested   \n",
      "2          Not Interested     Not Interested     Not Interested   \n",
      "3          Not Interested     Not Interested     Not Interested   \n",
      "4          Not Interested     Not Interested     Not Interested   \n",
      "...                   ...                ...                ...   \n",
      "9174       Not Interested     Not Interested     Not Interested   \n",
      "9175       Not Interested     Not Interested     Not Interested   \n",
      "9176       Not Interested     Not Interested     Not Interested   \n",
      "9177       Not Interested     Not Interested     Not Interested   \n",
      "9178       Not Interested     Not Interested     Not Interested   \n",
      "\n",
      "     Computer Forensics Fundamentals Technical Communication           AI ML  \\\n",
      "0                     Not Interested          Not Interested  Not Interested   \n",
      "1                     Not Interested          Not Interested  Not Interested   \n",
      "2                     Not Interested          Not Interested  Not Interested   \n",
      "3                     Not Interested          Not Interested  Not Interested   \n",
      "4                     Not Interested          Not Interested  Not Interested   \n",
      "...                              ...                     ...             ...   \n",
      "9174                  Not Interested          Not Interested  Not Interested   \n",
      "9175                  Not Interested          Not Interested  Not Interested   \n",
      "9176                  Not Interested          Not Interested  Not Interested   \n",
      "9177                  Not Interested          Not Interested  Not Interested   \n",
      "9178                  Not Interested          Not Interested  Not Interested   \n",
      "\n",
      "     Software Engineering Business Analysis Communication skills  \\\n",
      "0          Not Interested    Not Interested       Not Interested   \n",
      "1          Not Interested    Not Interested       Not Interested   \n",
      "2          Not Interested    Not Interested       Not Interested   \n",
      "3          Not Interested    Not Interested       Not Interested   \n",
      "4          Not Interested    Not Interested       Not Interested   \n",
      "...                   ...               ...                  ...   \n",
      "9174       Not Interested    Not Interested       Not Interested   \n",
      "9175       Not Interested    Not Interested       Not Interested   \n",
      "9176       Not Interested    Not Interested       Not Interested   \n",
      "9177       Not Interested    Not Interested       Not Interested   \n",
      "9178       Not Interested    Not Interested       Not Interested   \n",
      "\n",
      "        Data Science Troubleshooting skills Graphics Designing  \\\n",
      "0     Not Interested         Not Interested     Not Interested   \n",
      "1     Not Interested         Not Interested     Not Interested   \n",
      "2     Not Interested         Not Interested     Not Interested   \n",
      "3     Not Interested         Not Interested     Not Interested   \n",
      "4     Not Interested         Not Interested     Not Interested   \n",
      "...              ...                    ...                ...   \n",
      "9174            Poor                   Poor       Professional   \n",
      "9175        Beginner               Beginner       Professional   \n",
      "9176         Average                Average       Professional   \n",
      "9177    Intermediate           Intermediate       Professional   \n",
      "9178       Excellent              Excellent       Professional   \n",
      "\n",
      "                        Role  \n",
      "0     Database Administrator  \n",
      "1     Database Administrator  \n",
      "2     Database Administrator  \n",
      "3     Database Administrator  \n",
      "4     Database Administrator  \n",
      "...                      ...  \n",
      "9174       Graphics Designer  \n",
      "9175       Graphics Designer  \n",
      "9176       Graphics Designer  \n",
      "9177       Graphics Designer  \n",
      "9178       Graphics Designer  \n",
      "\n",
      "[9179 rows x 18 columns]\n"
     ]
    }
   ],
   "source": [
    "print(df)"
   ]
  },
  {
   "cell_type": "code",
   "execution_count": null,
   "metadata": {},
   "outputs": [],
   "source": []
  },
  {
   "cell_type": "code",
   "execution_count": 26,
   "metadata": {},
   "outputs": [
    {
     "name": "stdout",
     "output_type": "stream",
     "text": [
      "{'Hardware Engineer', 'AI ML Specialist', 'Technical Writer', 'Data Scientist', 'Application Support Engineer', 'Helpdesk Engineer', 'API Specialist', 'Software Developer', 'Cyber Security Specialist', 'Project Manager', 'Software tester', 'Business Analyst', 'Customer Service Executive', 'Database Administrator', 'Networking Engineer', 'Information Security Specialist', 'Graphics Designer'}\n",
      "17\n"
     ]
    }
   ],
   "source": [
    "print(set(df['Role']))\n",
    "print(len(set(df['Role'])))"
   ]
  },
  {
   "cell_type": "code",
   "execution_count": 10,
   "metadata": {},
   "outputs": [
    {
     "name": "stdout",
     "output_type": "stream",
     "text": [
      "{'Average', 'Intermediate', 'Beginner', 'Not Interested', 'Excellent', 'Professional', 'Poor'}\n"
     ]
    }
   ],
   "source": [
    "print(set(df['Database Fundamentals']))"
   ]
  },
  {
   "cell_type": "code",
   "execution_count": 12,
   "metadata": {},
   "outputs": [
    {
     "name": "stdout",
     "output_type": "stream",
     "text": [
      "{'Average', 'Intermediate', 'Beginner', 'Not Interested', 'Excellent', 'Poor', 'Professional', nan}\n"
     ]
    }
   ],
   "source": [
    "print(set(df['Graphics Designing']))"
   ]
  },
  {
   "cell_type": "code",
   "execution_count": 12,
   "metadata": {},
   "outputs": [
    {
     "name": "stdout",
     "output_type": "stream",
     "text": [
      "Database Fundamentals\n",
      "{'Poor', 'Excellent', 'Average', 'Not Interested', 'Beginner', 'Professional', 'Intermediate'}\n",
      "===========\n",
      "Computer Architecture\n",
      "{'Poor', 'Excellent', 'Average', 'Not Interested', 'Beginner', 'Professional', 'Intermediate'}\n",
      "===========\n",
      "Distributed Computing Systems\n",
      "{'Poor', 'Excellent', 'Average', 'Not Interested', 'Beginner', 'Professional', 'Intermediate'}\n",
      "===========\n",
      "Cyber Security\n",
      "{'Poor', 'Excellent', 'Average', 'Not Interested', 'Beginner', 'Professional', 'Intermediate'}\n",
      "===========\n",
      "Networking\n",
      "{'Poor', 'Excellent', 'Average', 'Not Interested', 'Beginner', 'Professional', 'Intermediate'}\n",
      "===========\n",
      "Software Development\n",
      "{'Poor', 'Excellent', 'Average', 'Not Interested', 'Beginner', 'Professional', 'Intermediate'}\n",
      "===========\n",
      "Programming Skills\n",
      "{'Poor', 'Excellent', 'Average', 'Not Interested', 'Beginner', 'Professional', 'Intermediate'}\n",
      "===========\n",
      "Project Management\n",
      "{'Poor', 'Excellent', 'Average', 'Not Interested', 'Beginner', 'Professional', 'Intermediate'}\n",
      "===========\n",
      "Computer Forensics Fundamentals\n",
      "{'Poor', 'Excellent', 'Average', 'Not Interested', 'Beginner', 'Professional', 'Intermediate'}\n",
      "===========\n",
      "Technical Communication\n",
      "{'Poor', 'Excellent', 'Average', 'Not Interested', 'Beginner', 'Professional', 'Intermediate'}\n",
      "===========\n",
      "AI ML\n",
      "{'Poor', 'Excellent', 'Average', 'Not Interested', 'Beginner', 'Professional', 'Intermediate'}\n",
      "===========\n",
      "Software Engineering\n",
      "{'Poor', 'Excellent', 'Average', 'Not Interested', 'Beginner', 'Professional', 'Intermediate'}\n",
      "===========\n",
      "Business Analysis\n",
      "{'Poor', 'Excellent', 'Average', 'Not Interested', 'Beginner', 'Professional', 'Intermediate'}\n",
      "===========\n",
      "Communication skills\n",
      "{'Poor', 'Excellent', 'Average', 'Not Interested', 'Beginner', 'Professional', 'Intermediate'}\n",
      "===========\n",
      "Data Science\n",
      "{'5', 'Poor', 'Excellent', 'Not Interested', 'Beginner', 'Professional', 'Intermediate'}\n",
      "===========\n",
      "Troubleshooting skills\n",
      "{'Poor', 'Excellent', 'Average', 'Not Interested', 'Beginner', 'Professional', 'Intermediate'}\n",
      "===========\n",
      "Graphics Designing\n",
      "{'Poor', 'Excellent', 'Average', 'Not Interested', 'Beginner', 'Professional', 'Intermediate', nan}\n",
      "===========\n",
      "Role\n",
      "{'Technical Writer', 'Data Scientist', 'Database Administrator', 'Software Developer', 'AI ML Specialist', 'Graphics Designer', 'Business Analyst', 'Helpdesk Engineer', 'Networking Engineer', 'Software tester', 'Hardware Engineer', 'API Specialist', 'Project Manager', 'Customer Service Executive', 'Application Support Engineer', 'Cyber Security Specialist', 'Information Security Specialist'}\n",
      "===========\n"
     ]
    }
   ],
   "source": [
    "cols = [\"Database Fundamentals\", \"Computer Architecture\",\n",
    "\"Distributed Computing Systems\",\n",
    "\"Cyber Security\",                     \n",
    "\"Networking\",                         \n",
    "\"Software Development\",               \n",
    "\"Programming Skills\",                 \n",
    "\"Project Management\",                 \n",
    "\"Computer Forensics Fundamentals\",    \n",
    "\"Technical Communication\",            \n",
    "\"AI ML\",                              \n",
    "\"Software Engineering\",               \n",
    "\"Business Analysis\",                  \n",
    "\"Communication skills\",               \n",
    "\"Data Science\",                       \n",
    "\"Troubleshooting skills\",             \n",
    "\"Graphics Designing\",                 \n",
    "\"Role\"]\n",
    "\n",
    "# print(cols)\n",
    "for column in cols:\n",
    "    print(column)\n",
    "    print(set(df[column]))\n",
    "    print(\"===========\")\n"
   ]
  },
  {
   "cell_type": "code",
   "execution_count": 16,
   "metadata": {},
   "outputs": [
    {
     "name": "stdout",
     "output_type": "stream",
     "text": [
      "{'Average', 'Intermediate', 'Beginner', 'Not Interested', 'Excellent', 'Poor', 'Professional'}\n"
     ]
    }
   ],
   "source": [
    "print(set(df['Data Science']))"
   ]
  },
  {
   "cell_type": "code",
   "execution_count": 20,
   "metadata": {},
   "outputs": [
    {
     "name": "stdout",
     "output_type": "stream",
     "text": [
      "     Database Fundamentals Computer Architecture  \\\n",
      "18            Professional        Not Interested   \n",
      "19            Professional                  Poor   \n",
      "20            Professional              Beginner   \n",
      "21            Professional               Average   \n",
      "22            Professional          Intermediate   \n",
      "...                    ...                   ...   \n",
      "8996              Beginner              Beginner   \n",
      "9002                  Poor               Average   \n",
      "9086                  Poor                  Poor   \n",
      "9092        Not Interested               Average   \n",
      "9176        Not Interested        Not Interested   \n",
      "\n",
      "     Distributed Computing Systems  Cyber Security      Networking  \\\n",
      "18                         Average         Average         Average   \n",
      "19                         Average         Average         Average   \n",
      "20                         Average         Average         Average   \n",
      "21                         Average         Average         Average   \n",
      "22                         Average         Average         Average   \n",
      "...                            ...             ...             ...   \n",
      "8996                      Beginner        Beginner        Beginner   \n",
      "9002                       Average         Average         Average   \n",
      "9086                          Poor            Poor            Poor   \n",
      "9092                       Average         Average         Average   \n",
      "9176                Not Interested  Not Interested  Not Interested   \n",
      "\n",
      "     Software Development Programming Skills Project Management  \\\n",
      "18                Average            Average            Average   \n",
      "19                Average            Average            Average   \n",
      "20                Average            Average            Average   \n",
      "21                Average            Average            Average   \n",
      "22                Average            Average            Average   \n",
      "...                   ...                ...                ...   \n",
      "8996             Beginner           Beginner           Beginner   \n",
      "9002              Average            Average            Average   \n",
      "9086                 Poor               Poor               Poor   \n",
      "9092              Average            Average            Average   \n",
      "9176       Not Interested     Not Interested     Not Interested   \n",
      "\n",
      "     Computer Forensics Fundamentals Technical Communication           AI ML  \\\n",
      "18                           Average                 Average         Average   \n",
      "19                           Average                 Average         Average   \n",
      "20                           Average                 Average         Average   \n",
      "21                           Average                 Average         Average   \n",
      "22                           Average                 Average         Average   \n",
      "...                              ...                     ...             ...   \n",
      "8996                        Beginner                Beginner        Beginner   \n",
      "9002                         Average                 Average         Average   \n",
      "9086                            Poor                    Poor            Poor   \n",
      "9092                         Average                 Average         Average   \n",
      "9176                  Not Interested          Not Interested  Not Interested   \n",
      "\n",
      "     Software Engineering Business Analysis Communication skills Data Science  \\\n",
      "18                Average           Average              Average      Average   \n",
      "19                Average           Average              Average      Average   \n",
      "20                Average           Average              Average      Average   \n",
      "21                Average           Average              Average      Average   \n",
      "22                Average           Average              Average      Average   \n",
      "...                   ...               ...                  ...          ...   \n",
      "8996             Beginner          Beginner             Beginner      Average   \n",
      "9002              Average           Average              Average      Average   \n",
      "9086                 Poor              Poor                 Poor      Average   \n",
      "9092              Average           Average              Average      Average   \n",
      "9176       Not Interested    Not Interested       Not Interested      Average   \n",
      "\n",
      "     Troubleshooting skills Graphics Designing                    Role  \n",
      "18                  Average            Average  Database Administrator  \n",
      "19                  Average            Average  Database Administrator  \n",
      "20                  Average            Average  Database Administrator  \n",
      "21                  Average            Average  Database Administrator  \n",
      "22                  Average            Average  Database Administrator  \n",
      "...                     ...                ...                     ...  \n",
      "8996                Average       Professional       Graphics Designer  \n",
      "9002                Average       Professional       Graphics Designer  \n",
      "9086                Average       Professional       Graphics Designer  \n",
      "9092                Average       Professional       Graphics Designer  \n",
      "9176                Average       Professional       Graphics Designer  \n",
      "\n",
      "[1440 rows x 18 columns]\n"
     ]
    }
   ],
   "source": [
    "print(df.loc[df[\"Data Science\"] == 'Average'])"
   ]
  },
  {
   "cell_type": "code",
   "execution_count": 23,
   "metadata": {},
   "outputs": [
    {
     "name": "stdout",
     "output_type": "stream",
     "text": [
      "                        Role Data Science\n",
      "18    Database Administrator      Average\n",
      "19    Database Administrator      Average\n",
      "20    Database Administrator      Average\n",
      "21    Database Administrator      Average\n",
      "22    Database Administrator      Average\n",
      "...                      ...          ...\n",
      "8996       Graphics Designer      Average\n",
      "9002       Graphics Designer      Average\n",
      "9086       Graphics Designer      Average\n",
      "9092       Graphics Designer      Average\n",
      "9176       Graphics Designer      Average\n",
      "\n",
      "[1440 rows x 2 columns]\n"
     ]
    }
   ],
   "source": [
    "df_role = df[[\"Role\", \"Data Science\"]]\n",
    "# print(df_role)\n",
    "\n",
    "print(df_role.loc[df['Data Science'] == 'Average'])"
   ]
  },
  {
   "cell_type": "code",
   "execution_count": 8,
   "metadata": {},
   "outputs": [
    {
     "name": "stdout",
     "output_type": "stream",
     "text": [
      "0       Not Interested\n",
      "1       Not Interested\n",
      "2       Not Interested\n",
      "3       Not Interested\n",
      "4       Not Interested\n",
      "             ...      \n",
      "9174              Poor\n",
      "9175          Beginner\n",
      "9176           Average\n",
      "9177      Intermediate\n",
      "9178         Excellent\n",
      "Name: Data Science, Length: 9179, dtype: object\n"
     ]
    }
   ],
   "source": [
    "new_df = df.copy()\n",
    "\n",
    "new_df.replace(to_replace=\"Average\", value=\"5\", inplace=True)\n",
    "print(df['Data Science'])\n",
    "\n",
    "\n"
   ]
  },
  {
   "cell_type": "code",
   "execution_count": 14,
   "metadata": {},
   "outputs": [
    {
     "name": "stdout",
     "output_type": "stream",
     "text": [
      "     Database Fundamentals Computer Architecture  \\\n",
      "0                        9                     1   \n",
      "1                        9                     2   \n",
      "2                        9                     3   \n",
      "3                        9                     5   \n",
      "4                        9                     6   \n",
      "...                    ...                   ...   \n",
      "9174                     1                     1   \n",
      "9175                     1                     1   \n",
      "9176                     1                     1   \n",
      "9177                     1                     1   \n",
      "9178                     1                     1   \n",
      "\n",
      "     Distributed Computing Systems Cyber Security Networking  \\\n",
      "0                                1              1          1   \n",
      "1                                1              1          1   \n",
      "2                                1              1          1   \n",
      "3                                1              1          1   \n",
      "4                                1              1          1   \n",
      "...                            ...            ...        ...   \n",
      "9174                             1              1          1   \n",
      "9175                             1              1          1   \n",
      "9176                             1              1          1   \n",
      "9177                             1              1          1   \n",
      "9178                             1              1          1   \n",
      "\n",
      "     Software Development Programming Skills Project Management  \\\n",
      "0                       1                  1                  1   \n",
      "1                       1                  1                  1   \n",
      "2                       1                  1                  1   \n",
      "3                       1                  1                  1   \n",
      "4                       1                  1                  1   \n",
      "...                   ...                ...                ...   \n",
      "9174                    1                  1                  1   \n",
      "9175                    1                  1                  1   \n",
      "9176                    1                  1                  1   \n",
      "9177                    1                  1                  1   \n",
      "9178                    1                  1                  1   \n",
      "\n",
      "     Computer Forensics Fundamentals Technical Communication AI ML  \\\n",
      "0                                  1                       1     1   \n",
      "1                                  1                       1     1   \n",
      "2                                  1                       1     1   \n",
      "3                                  1                       1     1   \n",
      "4                                  1                       1     1   \n",
      "...                              ...                     ...   ...   \n",
      "9174                               1                       1     1   \n",
      "9175                               1                       1     1   \n",
      "9176                               1                       1     1   \n",
      "9177                               1                       1     1   \n",
      "9178                               1                       1     1   \n",
      "\n",
      "     Software Engineering Business Analysis Communication skills Data Science  \\\n",
      "0                       1                 1                    1            1   \n",
      "1                       1                 1                    1            1   \n",
      "2                       1                 1                    1            1   \n",
      "3                       1                 1                    1            1   \n",
      "4                       1                 1                    1            1   \n",
      "...                   ...               ...                  ...          ...   \n",
      "9174                    1                 1                    1            2   \n",
      "9175                    1                 1                    1            3   \n",
      "9176                    1                 1                    1            5   \n",
      "9177                    1                 1                    1            6   \n",
      "9178                    1                 1                    1            7   \n",
      "\n",
      "     Troubleshooting skills Graphics Designing                    Role  \n",
      "0                         1                  1  Database Administrator  \n",
      "1                         1                  1  Database Administrator  \n",
      "2                         1                  1  Database Administrator  \n",
      "3                         1                  1  Database Administrator  \n",
      "4                         1                  1  Database Administrator  \n",
      "...                     ...                ...                     ...  \n",
      "9174                      2                  9       Graphics Designer  \n",
      "9175                      3                  9       Graphics Designer  \n",
      "9176                      5                  9       Graphics Designer  \n",
      "9177                      6                  9       Graphics Designer  \n",
      "9178                      7                  9       Graphics Designer  \n",
      "\n",
      "[9179 rows x 18 columns]\n"
     ]
    }
   ],
   "source": [
    "# Make sure 'Data Science' column is of string type\n",
    "df['Data Science'] = df['Data Science'].astype(str)\n",
    "\n",
    "# Replace \"Average\" with \"5\", ignoring case and stripping whitespace\n",
    "HM_map = {'Average' : '5',\n",
    "'Intermediate' : '6',\n",
    "'Beginner' : '3',\n",
    "'Not Interested' : '1', \n",
    "'Excellent' : '7',\n",
    "'Poor': '2',\n",
    "'Professional': '9'}\n",
    "\n",
    "for column in cols:\n",
    "    if column == \"Role\":\n",
    "        continue\n",
    "    else:\n",
    "        for k in HM_map.keys():\n",
    "            df[column] = df[column].str.strip().replace(to_replace=k, value=HM_map[k], regex=True)\n",
    "\n",
    "# df['Data Science'] = df['Data Science'].str.strip().replace(to_replace=\"Average\", value=\"5\", regex=True)\n",
    "\n",
    "# Print the modified column\n",
    "print(df)\n",
    "\n",
    "\n"
   ]
  },
  {
   "cell_type": "code",
   "execution_count": 16,
   "metadata": {},
   "outputs": [],
   "source": [
    "df.to_csv(\"dataset_with_number.csv\", sep=\",\", index=False)"
   ]
  }
 ],
 "metadata": {
  "kernelspec": {
   "display_name": "Python 3",
   "language": "python",
   "name": "python3"
  },
  "language_info": {
   "codemirror_mode": {
    "name": "ipython",
    "version": 3
   },
   "file_extension": ".py",
   "mimetype": "text/x-python",
   "name": "python",
   "nbconvert_exporter": "python",
   "pygments_lexer": "ipython3",
   "version": "3.12.2"
  }
 },
 "nbformat": 4,
 "nbformat_minor": 2
}
