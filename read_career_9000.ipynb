{
 "cells": [
  {
   "cell_type": "code",
   "execution_count": 1,
   "metadata": {},
   "outputs": [],
   "source": [
    "import pandas as pd"
   ]
  },
  {
   "cell_type": "code",
   "execution_count": 25,
   "metadata": {},
   "outputs": [
    {
     "name": "stdout",
     "output_type": "stream",
     "text": [
      "<class 'pandas.core.frame.DataFrame'>\n",
      "9179\n"
     ]
    }
   ],
   "source": [
    "df = pd.read_csv(\"dataset9000.csv\")\n",
    "print(type(df))\n",
    "print(len(df))"
   ]
  },
  {
   "cell_type": "code",
   "execution_count": 3,
   "metadata": {},
   "outputs": [
    {
     "name": "stdout",
     "output_type": "stream",
     "text": [
      "Database Fundamentals              object\n",
      "Computer Architecture              object\n",
      "Distributed Computing Systems      object\n",
      "Cyber Security                     object\n",
      "Networking                         object\n",
      "Software Development               object\n",
      "Programming Skills                 object\n",
      "Project Management                 object\n",
      "Computer Forensics Fundamentals    object\n",
      "Technical Communication            object\n",
      "AI ML                              object\n",
      "Software Engineering               object\n",
      "Business Analysis                  object\n",
      "Communication skills               object\n",
      "Data Science                       object\n",
      "Troubleshooting skills             object\n",
      "Graphics Designing                 object\n",
      "Role                               object\n",
      "dtype: object\n"
     ]
    }
   ],
   "source": [
    "print(df.dtypes)"
   ]
  },
  {
   "cell_type": "code",
   "execution_count": 4,
   "metadata": {},
   "outputs": [
    {
     "name": "stdout",
     "output_type": "stream",
     "text": [
      "     Database Fundamentals Computer Architecture  \\\n",
      "0             Professional        Not Interested   \n",
      "1             Professional                  Poor   \n",
      "2             Professional              Beginner   \n",
      "3             Professional               Average   \n",
      "4             Professional          Intermediate   \n",
      "...                    ...                   ...   \n",
      "9174        Not Interested        Not Interested   \n",
      "9175        Not Interested        Not Interested   \n",
      "9176        Not Interested        Not Interested   \n",
      "9177        Not Interested        Not Interested   \n",
      "9178        Not Interested        Not Interested   \n",
      "\n",
      "     Distributed Computing Systems  Cyber Security      Networking  \\\n",
      "0                   Not Interested  Not Interested  Not Interested   \n",
      "1                   Not Interested  Not Interested  Not Interested   \n",
      "2                   Not Interested  Not Interested  Not Interested   \n",
      "3                   Not Interested  Not Interested  Not Interested   \n",
      "4                   Not Interested  Not Interested  Not Interested   \n",
      "...                            ...             ...             ...   \n",
      "9174                Not Interested  Not Interested  Not Interested   \n",
      "9175                Not Interested  Not Interested  Not Interested   \n",
      "9176                Not Interested  Not Interested  Not Interested   \n",
      "9177                Not Interested  Not Interested  Not Interested   \n",
      "9178                Not Interested  Not Interested  Not Interested   \n",
      "\n",
      "     Software Development Programming Skills Project Management  \\\n",
      "0          Not Interested     Not Interested     Not Interested   \n",
      "1          Not Interested     Not Interested     Not Interested   \n",
      "2          Not Interested     Not Interested     Not Interested   \n",
      "3          Not Interested     Not Interested     Not Interested   \n",
      "4          Not Interested     Not Interested     Not Interested   \n",
      "...                   ...                ...                ...   \n",
      "9174       Not Interested     Not Interested     Not Interested   \n",
      "9175       Not Interested     Not Interested     Not Interested   \n",
      "9176       Not Interested     Not Interested     Not Interested   \n",
      "9177       Not Interested     Not Interested     Not Interested   \n",
      "9178       Not Interested     Not Interested     Not Interested   \n",
      "\n",
      "     Computer Forensics Fundamentals Technical Communication           AI ML  \\\n",
      "0                     Not Interested          Not Interested  Not Interested   \n",
      "1                     Not Interested          Not Interested  Not Interested   \n",
      "2                     Not Interested          Not Interested  Not Interested   \n",
      "3                     Not Interested          Not Interested  Not Interested   \n",
      "4                     Not Interested          Not Interested  Not Interested   \n",
      "...                              ...                     ...             ...   \n",
      "9174                  Not Interested          Not Interested  Not Interested   \n",
      "9175                  Not Interested          Not Interested  Not Interested   \n",
      "9176                  Not Interested          Not Interested  Not Interested   \n",
      "9177                  Not Interested          Not Interested  Not Interested   \n",
      "9178                  Not Interested          Not Interested  Not Interested   \n",
      "\n",
      "     Software Engineering Business Analysis Communication skills  \\\n",
      "0          Not Interested    Not Interested       Not Interested   \n",
      "1          Not Interested    Not Interested       Not Interested   \n",
      "2          Not Interested    Not Interested       Not Interested   \n",
      "3          Not Interested    Not Interested       Not Interested   \n",
      "4          Not Interested    Not Interested       Not Interested   \n",
      "...                   ...               ...                  ...   \n",
      "9174       Not Interested    Not Interested       Not Interested   \n",
      "9175       Not Interested    Not Interested       Not Interested   \n",
      "9176       Not Interested    Not Interested       Not Interested   \n",
      "9177       Not Interested    Not Interested       Not Interested   \n",
      "9178       Not Interested    Not Interested       Not Interested   \n",
      "\n",
      "        Data Science Troubleshooting skills Graphics Designing  \\\n",
      "0     Not Interested         Not Interested     Not Interested   \n",
      "1     Not Interested         Not Interested     Not Interested   \n",
      "2     Not Interested         Not Interested     Not Interested   \n",
      "3     Not Interested         Not Interested     Not Interested   \n",
      "4     Not Interested         Not Interested     Not Interested   \n",
      "...              ...                    ...                ...   \n",
      "9174            Poor                   Poor       Professional   \n",
      "9175        Beginner               Beginner       Professional   \n",
      "9176         Average                Average       Professional   \n",
      "9177    Intermediate           Intermediate       Professional   \n",
      "9178       Excellent              Excellent       Professional   \n",
      "\n",
      "                        Role  \n",
      "0     Database Administrator  \n",
      "1     Database Administrator  \n",
      "2     Database Administrator  \n",
      "3     Database Administrator  \n",
      "4     Database Administrator  \n",
      "...                      ...  \n",
      "9174       Graphics Designer  \n",
      "9175       Graphics Designer  \n",
      "9176       Graphics Designer  \n",
      "9177       Graphics Designer  \n",
      "9178       Graphics Designer  \n",
      "\n",
      "[9179 rows x 18 columns]\n"
     ]
    }
   ],
   "source": [
    "print(df)"
   ]
  },
  {
   "cell_type": "code",
   "execution_count": null,
   "metadata": {},
   "outputs": [],
   "source": []
  },
  {
   "cell_type": "code",
   "execution_count": 26,
   "metadata": {},
   "outputs": [
    {
     "name": "stdout",
     "output_type": "stream",
     "text": [
      "{'Hardware Engineer', 'AI ML Specialist', 'Technical Writer', 'Data Scientist', 'Application Support Engineer', 'Helpdesk Engineer', 'API Specialist', 'Software Developer', 'Cyber Security Specialist', 'Project Manager', 'Software tester', 'Business Analyst', 'Customer Service Executive', 'Database Administrator', 'Networking Engineer', 'Information Security Specialist', 'Graphics Designer'}\n",
      "17\n"
     ]
    }
   ],
   "source": [
    "print(set(df['Role']))\n",
    "print(len(set(df['Role'])))"
   ]
  },
  {
   "cell_type": "code",
   "execution_count": 10,
   "metadata": {},
   "outputs": [
    {
     "name": "stdout",
     "output_type": "stream",
     "text": [
      "{'Average', 'Intermediate', 'Beginner', 'Not Interested', 'Excellent', 'Professional', 'Poor'}\n"
     ]
    }
   ],
   "source": [
    "print(set(df['Database Fundamentals']))"
   ]
  },
  {
   "cell_type": "code",
   "execution_count": 12,
   "metadata": {},
   "outputs": [
    {
     "name": "stdout",
     "output_type": "stream",
     "text": [
      "{'Average', 'Intermediate', 'Beginner', 'Not Interested', 'Excellent', 'Poor', 'Professional', nan}\n"
     ]
    }
   ],
   "source": [
    "print(set(df['Graphics Designing']))"
   ]
  },
  {
   "cell_type": "code",
   "execution_count": 15,
   "metadata": {},
   "outputs": [
    {
     "name": "stdout",
     "output_type": "stream",
     "text": [
      "Database Fundamentals\n",
      "{'Average', 'Intermediate', 'Beginner', 'Not Interested', 'Excellent', 'Professional', 'Poor'}\n",
      "===========\n",
      "Computer Architecture\n",
      "{'Average', 'Intermediate', 'Beginner', 'Not Interested', 'Excellent', 'Poor', 'Professional'}\n",
      "===========\n",
      "Distributed Computing Systems\n",
      "{'Average', 'Intermediate', 'Beginner', 'Not Interested', 'Excellent', 'Poor', 'Professional'}\n",
      "===========\n",
      "Cyber Security\n",
      "{'Average', 'Intermediate', 'Beginner', 'Not Interested', 'Excellent', 'Poor', 'Professional'}\n",
      "===========\n",
      "Networking\n",
      "{'Average', 'Intermediate', 'Beginner', 'Not Interested', 'Excellent', 'Poor', 'Professional'}\n",
      "===========\n",
      "Software Development\n",
      "{'Average', 'Intermediate', 'Beginner', 'Not Interested', 'Excellent', 'Poor', 'Professional'}\n",
      "===========\n",
      "Programming Skills\n",
      "{'Average', 'Intermediate', 'Beginner', 'Not Interested', 'Excellent', 'Poor', 'Professional'}\n",
      "===========\n",
      "Project Management\n",
      "{'Average', 'Intermediate', 'Beginner', 'Not Interested', 'Excellent', 'Poor', 'Professional'}\n",
      "===========\n",
      "Computer Forensics Fundamentals\n",
      "{'Average', 'Intermediate', 'Beginner', 'Not Interested', 'Excellent', 'Poor', 'Professional'}\n",
      "===========\n",
      "Technical Communication\n",
      "{'Average', 'Intermediate', 'Beginner', 'Not Interested', 'Excellent', 'Poor', 'Professional'}\n",
      "===========\n",
      "AI ML\n",
      "{'Average', 'Intermediate', 'Beginner', 'Not Interested', 'Excellent', 'Poor', 'Professional'}\n",
      "===========\n",
      "Software Engineering\n",
      "{'Average', 'Intermediate', 'Beginner', 'Not Interested', 'Excellent', 'Poor', 'Professional'}\n",
      "===========\n",
      "Business Analysis\n",
      "{'Average', 'Intermediate', 'Beginner', 'Not Interested', 'Excellent', 'Poor', 'Professional'}\n",
      "===========\n",
      "Communication skills\n",
      "{'Average', 'Intermediate', 'Beginner', 'Not Interested', 'Excellent', 'Poor', 'Professional'}\n",
      "===========\n",
      "Data Science\n",
      "{'Average', 'Intermediate', 'Beginner', 'Not Interested', 'Excellent', 'Poor', 'Professional'}\n",
      "===========\n",
      "Troubleshooting skills\n",
      "{'Average', 'Intermediate', 'Beginner', 'Not Interested', 'Excellent', 'Poor', 'Professional'}\n",
      "===========\n",
      "Graphics Designing\n",
      "{'Average', 'Intermediate', 'Beginner', 'Not Interested', 'Excellent', 'Poor', 'Professional', nan}\n",
      "===========\n",
      "Role\n",
      "{'Hardware Engineer', 'AI ML Specialist', 'Technical Writer', 'Data Scientist', 'Application Support Engineer', 'Helpdesk Engineer', 'API Specialist', 'Software Developer', 'Cyber Security Specialist', 'Project Manager', 'Software tester', 'Business Analyst', 'Customer Service Executive', 'Database Administrator', 'Networking Engineer', 'Information Security Specialist', 'Graphics Designer'}\n",
      "===========\n"
     ]
    }
   ],
   "source": [
    "cols = [\"Database Fundamentals\", \"Computer Architecture\",\n",
    "\"Distributed Computing Systems\",\n",
    "\"Cyber Security\",                     \n",
    "\"Networking\",                         \n",
    "\"Software Development\",               \n",
    "\"Programming Skills\",                 \n",
    "\"Project Management\",                 \n",
    "\"Computer Forensics Fundamentals\",    \n",
    "\"Technical Communication\",            \n",
    "\"AI ML\",                              \n",
    "\"Software Engineering\",               \n",
    "\"Business Analysis\",                  \n",
    "\"Communication skills\",               \n",
    "\"Data Science\",                       \n",
    "\"Troubleshooting skills\",             \n",
    "\"Graphics Designing\",                 \n",
    "\"Role\"]\n",
    "\n",
    "# print(cols)\n",
    "for column in cols:\n",
    "    print(column)\n",
    "    print(set(df[column]))\n",
    "    print(\"===========\")\n"
   ]
  },
  {
   "cell_type": "code",
   "execution_count": 16,
   "metadata": {},
   "outputs": [
    {
     "name": "stdout",
     "output_type": "stream",
     "text": [
      "{'Average', 'Intermediate', 'Beginner', 'Not Interested', 'Excellent', 'Poor', 'Professional'}\n"
     ]
    }
   ],
   "source": [
    "print(set(df['Data Science']))"
   ]
  },
  {
   "cell_type": "code",
   "execution_count": 20,
   "metadata": {},
   "outputs": [
    {
     "name": "stdout",
     "output_type": "stream",
     "text": [
      "     Database Fundamentals Computer Architecture  \\\n",
      "18            Professional        Not Interested   \n",
      "19            Professional                  Poor   \n",
      "20            Professional              Beginner   \n",
      "21            Professional               Average   \n",
      "22            Professional          Intermediate   \n",
      "...                    ...                   ...   \n",
      "8996              Beginner              Beginner   \n",
      "9002                  Poor               Average   \n",
      "9086                  Poor                  Poor   \n",
      "9092        Not Interested               Average   \n",
      "9176        Not Interested        Not Interested   \n",
      "\n",
      "     Distributed Computing Systems  Cyber Security      Networking  \\\n",
      "18                         Average         Average         Average   \n",
      "19                         Average         Average         Average   \n",
      "20                         Average         Average         Average   \n",
      "21                         Average         Average         Average   \n",
      "22                         Average         Average         Average   \n",
      "...                            ...             ...             ...   \n",
      "8996                      Beginner        Beginner        Beginner   \n",
      "9002                       Average         Average         Average   \n",
      "9086                          Poor            Poor            Poor   \n",
      "9092                       Average         Average         Average   \n",
      "9176                Not Interested  Not Interested  Not Interested   \n",
      "\n",
      "     Software Development Programming Skills Project Management  \\\n",
      "18                Average            Average            Average   \n",
      "19                Average            Average            Average   \n",
      "20                Average            Average            Average   \n",
      "21                Average            Average            Average   \n",
      "22                Average            Average            Average   \n",
      "...                   ...                ...                ...   \n",
      "8996             Beginner           Beginner           Beginner   \n",
      "9002              Average            Average            Average   \n",
      "9086                 Poor               Poor               Poor   \n",
      "9092              Average            Average            Average   \n",
      "9176       Not Interested     Not Interested     Not Interested   \n",
      "\n",
      "     Computer Forensics Fundamentals Technical Communication           AI ML  \\\n",
      "18                           Average                 Average         Average   \n",
      "19                           Average                 Average         Average   \n",
      "20                           Average                 Average         Average   \n",
      "21                           Average                 Average         Average   \n",
      "22                           Average                 Average         Average   \n",
      "...                              ...                     ...             ...   \n",
      "8996                        Beginner                Beginner        Beginner   \n",
      "9002                         Average                 Average         Average   \n",
      "9086                            Poor                    Poor            Poor   \n",
      "9092                         Average                 Average         Average   \n",
      "9176                  Not Interested          Not Interested  Not Interested   \n",
      "\n",
      "     Software Engineering Business Analysis Communication skills Data Science  \\\n",
      "18                Average           Average              Average      Average   \n",
      "19                Average           Average              Average      Average   \n",
      "20                Average           Average              Average      Average   \n",
      "21                Average           Average              Average      Average   \n",
      "22                Average           Average              Average      Average   \n",
      "...                   ...               ...                  ...          ...   \n",
      "8996             Beginner          Beginner             Beginner      Average   \n",
      "9002              Average           Average              Average      Average   \n",
      "9086                 Poor              Poor                 Poor      Average   \n",
      "9092              Average           Average              Average      Average   \n",
      "9176       Not Interested    Not Interested       Not Interested      Average   \n",
      "\n",
      "     Troubleshooting skills Graphics Designing                    Role  \n",
      "18                  Average            Average  Database Administrator  \n",
      "19                  Average            Average  Database Administrator  \n",
      "20                  Average            Average  Database Administrator  \n",
      "21                  Average            Average  Database Administrator  \n",
      "22                  Average            Average  Database Administrator  \n",
      "...                     ...                ...                     ...  \n",
      "8996                Average       Professional       Graphics Designer  \n",
      "9002                Average       Professional       Graphics Designer  \n",
      "9086                Average       Professional       Graphics Designer  \n",
      "9092                Average       Professional       Graphics Designer  \n",
      "9176                Average       Professional       Graphics Designer  \n",
      "\n",
      "[1440 rows x 18 columns]\n"
     ]
    }
   ],
   "source": [
    "print(df.loc[df[\"Data Science\"] == 'Average'])"
   ]
  },
  {
   "cell_type": "code",
   "execution_count": 23,
   "metadata": {},
   "outputs": [
    {
     "name": "stdout",
     "output_type": "stream",
     "text": [
      "                        Role Data Science\n",
      "18    Database Administrator      Average\n",
      "19    Database Administrator      Average\n",
      "20    Database Administrator      Average\n",
      "21    Database Administrator      Average\n",
      "22    Database Administrator      Average\n",
      "...                      ...          ...\n",
      "8996       Graphics Designer      Average\n",
      "9002       Graphics Designer      Average\n",
      "9086       Graphics Designer      Average\n",
      "9092       Graphics Designer      Average\n",
      "9176       Graphics Designer      Average\n",
      "\n",
      "[1440 rows x 2 columns]\n"
     ]
    }
   ],
   "source": [
    "df_role = df[[\"Role\", \"Data Science\"]]\n",
    "# print(df_role)\n",
    "\n",
    "print(df_role.loc[df['Data Science'] == 'Average'])"
   ]
  }
 ],
 "metadata": {
  "kernelspec": {
   "display_name": "Python 3",
   "language": "python",
   "name": "python3"
  },
  "language_info": {
   "codemirror_mode": {
    "name": "ipython",
    "version": 3
   },
   "file_extension": ".py",
   "mimetype": "text/x-python",
   "name": "python",
   "nbconvert_exporter": "python",
   "pygments_lexer": "ipython3",
   "version": "3.12.2"
  }
 },
 "nbformat": 4,
 "nbformat_minor": 2
}
